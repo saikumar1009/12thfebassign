{
 "cells": [
  {
   "cell_type": "code",
   "execution_count": 2,
   "id": "352867ac-a48f-4feb-beae-59113dd8237e",
   "metadata": {},
   "outputs": [],
   "source": [
    "#12FEB_assQ\n"
   ]
  },
  {
   "cell_type": "raw",
   "id": "61f04594-f215-47b1-a0bc-25710b9a310e",
   "metadata": {},
   "source": [
    "#Q1. What is Exception in python? Write the difference between Exceptions and Syntax erros\n",
    "\n",
    "An exception is an event, which occurs during the execution of a program that disrupts the normal flow of the program's instructions. In general, when a Python script encounters a situation that it cannot cope with, it raises an exception. An exception is a Python object that represents an error.\n",
    "The error indicates trouble that primarily occurs due to the scarcity of system resources. The exceptions are the issues that can appear at runtime and compile time."
   ]
  },
  {
   "cell_type": "raw",
   "id": "3ce22217-e0d1-4586-adb9-daa0ce51c509",
   "metadata": {},
   "source": [
    "#Q2.What happens when exception is not handled?Explain with example.\n",
    "If exception is not handled,that disrupts the normal flow of the program's instructions.\n",
    "This error does not stop the execution of the program, however, it changes the normal flow of the program."
   ]
  },
  {
   "cell_type": "code",
   "execution_count": 4,
   "id": "4ca7e2ff-a7e2-4861-b2f5-a2c9da8b77cd",
   "metadata": {},
   "outputs": [
    {
     "ename": "ZeroDivisionError",
     "evalue": "division by zero",
     "output_type": "error",
     "traceback": [
      "\u001b[0;31m---------------------------------------------------------------------------\u001b[0m",
      "\u001b[0;31mZeroDivisionError\u001b[0m                         Traceback (most recent call last)",
      "Cell \u001b[0;32mIn[4], line 2\u001b[0m\n\u001b[1;32m      1\u001b[0m a\u001b[38;5;241m=\u001b[39m\u001b[38;5;241m10\u001b[39m\n\u001b[0;32m----> 2\u001b[0m b\u001b[38;5;241m=\u001b[39m\u001b[43ma\u001b[49m\u001b[38;5;241;43m/\u001b[39;49m\u001b[38;5;241;43m0\u001b[39;49m\n\u001b[1;32m      3\u001b[0m \u001b[38;5;28mprint\u001b[39m(\u001b[38;5;124m\"\u001b[39m\u001b[38;5;124mNO exception\u001b[39m\u001b[38;5;124m\"\u001b[39m)\n",
      "\u001b[0;31mZeroDivisionError\u001b[0m: division by zero"
     ]
    }
   ],
   "source": [
    "a=10\n",
    "b=a/0\n",
    "print(\"NO exception\")"
   ]
  },
  {
   "cell_type": "raw",
   "id": "54275054-ec36-4e84-9fee-20a514be89dd",
   "metadata": {},
   "source": [
    "#Q3.Which python statements are used to catch and handle exceptions?Explain with example\n",
    "\n",
    "Try and except statements are used to catch and handle exceptions in Python.Statements that can raise exceptions are kept inside the try clause and the statements that handle the exception are written inside except clause.\n",
    "Else clause on the try-except block which must be present after all the except clauses.\n",
    "Python provides a keyword finally, which is always executed after the try and except blocks."
   ]
  },
  {
   "cell_type": "code",
   "execution_count": 8,
   "id": "b430d32b-5b7a-43ac-bc14-9c02d50105d3",
   "metadata": {},
   "outputs": [
    {
     "name": "stdout",
     "output_type": "stream",
     "text": [
      "can't divide by zero\n",
      "finally executed\n"
     ]
    }
   ],
   "source": [
    "try:\n",
    "    a=10//0\n",
    "    print(a)\n",
    "except ZeroDivisionError:\n",
    "    print(\"can't divide by zero\")\n",
    "finally:\n",
    "    print(\"finally executed\")"
   ]
  },
  {
   "cell_type": "code",
   "execution_count": 12,
   "id": "b2843642-0e67-4c97-a015-e9b0ae398d6b",
   "metadata": {},
   "outputs": [
    {
     "name": "stdout",
     "output_type": "stream",
     "text": [
      "20\n",
      "no exception occured\n"
     ]
    }
   ],
   "source": [
    "#Q4 Expalin  with example\n",
    "#a.try and else \n",
    "try:\n",
    "    a=[10,20,30]\n",
    "    print(a[1])\n",
    "except IndexError:\n",
    "    print(\"Index Out of range\")\n",
    "else:\n",
    "    print('no exception occured')"
   ]
  },
  {
   "cell_type": "code",
   "execution_count": 13,
   "id": "6734526d-96f4-4ae9-8c36-ce9a0fed092f",
   "metadata": {},
   "outputs": [
    {
     "name": "stdout",
     "output_type": "stream",
     "text": [
      "key not found\n",
      "finally executed\n"
     ]
    }
   ],
   "source": [
    "#b.finally\n",
    "try:\n",
    "    a={'a':'ram'}\n",
    "    print(a['b'])\n",
    "except KeyError:\n",
    "    print(\"key not found\")\n",
    "finally:\n",
    "    print(\"finally executed\")"
   ]
  },
  {
   "cell_type": "code",
   "execution_count": 2,
   "id": "0e7764be-58b8-432a-b20c-43bd571a139c",
   "metadata": {},
   "outputs": [
    {
     "ename": "TypeError",
     "evalue": "Only integers are allowed",
     "output_type": "error",
     "traceback": [
      "\u001b[0;31m---------------------------------------------------------------------------\u001b[0m",
      "\u001b[0;31mTypeError\u001b[0m                                 Traceback (most recent call last)",
      "Cell \u001b[0;32mIn[2], line 5\u001b[0m\n\u001b[1;32m      2\u001b[0m x \u001b[38;5;241m=\u001b[39m \u001b[38;5;124m\"\u001b[39m\u001b[38;5;124mhello\u001b[39m\u001b[38;5;124m\"\u001b[39m\n\u001b[1;32m      4\u001b[0m \u001b[38;5;28;01mif\u001b[39;00m \u001b[38;5;129;01mnot\u001b[39;00m \u001b[38;5;28mtype\u001b[39m(x) \u001b[38;5;129;01mis\u001b[39;00m \u001b[38;5;28mint\u001b[39m:\n\u001b[0;32m----> 5\u001b[0m   \u001b[38;5;28;01mraise\u001b[39;00m \u001b[38;5;167;01mTypeError\u001b[39;00m(\u001b[38;5;124m\"\u001b[39m\u001b[38;5;124mOnly integers are allowed\u001b[39m\u001b[38;5;124m\"\u001b[39m)\n",
      "\u001b[0;31mTypeError\u001b[0m: Only integers are allowed"
     ]
    }
   ],
   "source": [
    "#raise\n",
    "x = \"hello\"\n",
    "\n",
    "if not type(x) is int:\n",
    "  raise TypeError(\"Only integers are allowed\")"
   ]
  },
  {
   "cell_type": "raw",
   "id": "32e0339e-3109-482e-863a-b7cdae8fd760",
   "metadata": {},
   "source": [
    "#Q4 What are Custom Exceptions in Python?Why do we need Custom Exceptions?Write an example.\n",
    "custom exceptions are named as user-defined exceptions. Here the user-defined exceptions can be built defined by using a class declared for it. These customer exceptions are declared specifically to satisfy user necessities. All the user-defined exceptions will be derived from the user class.\n",
    "To create a custom exception class, you define a class that inherits from the built-in Exception class or one of its subclasses such as ValueError class.\n"
   ]
  },
  {
   "cell_type": "code",
   "execution_count": 3,
   "id": "8537f3e5-27cc-48c4-a03a-ed06c55b0b01",
   "metadata": {},
   "outputs": [
    {
     "name": "stdin",
     "output_type": "stream",
     "text": [
      "Enter a number:  5\n"
     ]
    },
    {
     "name": "stdout",
     "output_type": "stream",
     "text": [
      "Exception occurred: Invalid Age\n"
     ]
    }
   ],
   "source": [
    "#example\n",
    "class InvalidAgeException(Exception):\n",
    "    \"Raised when the input value is less than 18\"\n",
    "    pass\n",
    "\n",
    "\n",
    "number = 18\n",
    "\n",
    "try:\n",
    "    input_num = int(input(\"Enter a number: \"))\n",
    "    if input_num < number:\n",
    "        raise InvalidAgeException\n",
    "    else:\n",
    "        print(\"Eligible to Vote\")\n",
    "        \n",
    "except InvalidAgeException:\n",
    "    print(\"Exception occurred: Invalid Age\")"
   ]
  },
  {
   "cell_type": "code",
   "execution_count": 5,
   "id": "27fbfd7d-d16e-4839-a7f4-26540c9cc059",
   "metadata": {},
   "outputs": [
    {
     "name": "stdin",
     "output_type": "stream",
     "text": [
      "enter a number 987\n"
     ]
    },
    {
     "name": "stdout",
     "output_type": "stream",
     "text": [
      "age is correct\n"
     ]
    }
   ],
   "source": [
    "#Q6  Create a custom exception class.use this class to handle an Exception\n",
    "class InvalidAgeException(Exception):\n",
    "    \"Raised when the input value is less than 18\"\n",
    "    pass\n",
    "\n",
    "\n",
    "number = 18\n",
    "\n",
    "try:\n",
    "    input_num = int(input(\"Enter a number: \"))\n",
    "    if input_num < number:\n",
    "        raise InvalidAgeException\n",
    "    else:\n",
    "        print(\"Eligible to Vote\")\n",
    "        \n",
    "except InvalidAgeException:\n",
    "    print(\"Exception occurred: Invalid Age\")"
   ]
  },
  {
   "cell_type": "code",
   "execution_count": null,
   "id": "0591c5e2-6884-4dfa-bd78-42968f9f47ff",
   "metadata": {},
   "outputs": [],
   "source": [
    "class CustomException(Exception):\n",
    "    \"\"\" my custom exception class \"\"\"\n",
    "\n",
    "\n",
    "try:\n",
    "    raise CustomException('This is my custom exception')\n",
    "except CustomException as ex:\n",
    "    print(ex)"
   ]
  }
 ],
 "metadata": {
  "kernelspec": {
   "display_name": "Python 3 (ipykernel)",
   "language": "python",
   "name": "python3"
  },
  "language_info": {
   "codemirror_mode": {
    "name": "ipython",
    "version": 3
   },
   "file_extension": ".py",
   "mimetype": "text/x-python",
   "name": "python",
   "nbconvert_exporter": "python",
   "pygments_lexer": "ipython3",
   "version": "3.10.8"
  }
 },
 "nbformat": 4,
 "nbformat_minor": 5
}
